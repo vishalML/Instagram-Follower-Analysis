{
 "cells": [
  {
   "cell_type": "markdown",
   "metadata": {},
   "source": [
    "# Data Analysis and Model Building"
   ]
  },
  {
   "cell_type": "markdown",
   "metadata": {},
   "source": [
    "### Vishal Kumar : kumar.vishal318@gmail.com\n",
    "### Omkarnath Parida : pomkarnath98@gmail.com"
   ]
  },
  {
   "cell_type": "code",
   "execution_count": 1,
   "metadata": {},
   "outputs": [],
   "source": [
    "import pandas as pd\n",
    "import numpy as np"
   ]
  },
  {
   "cell_type": "code",
   "execution_count": 2,
   "metadata": {},
   "outputs": [
    {
     "data": {
      "text/html": [
       "<div>\n",
       "<style scoped>\n",
       "    .dataframe tbody tr th:only-of-type {\n",
       "        vertical-align: middle;\n",
       "    }\n",
       "\n",
       "    .dataframe tbody tr th {\n",
       "        vertical-align: top;\n",
       "    }\n",
       "\n",
       "    .dataframe thead th {\n",
       "        text-align: right;\n",
       "    }\n",
       "</style>\n",
       "<table border=\"1\" class=\"dataframe\">\n",
       "  <thead>\n",
       "    <tr style=\"text-align: right;\">\n",
       "      <th></th>\n",
       "      <th>username</th>\n",
       "      <th>mutual_connecting</th>\n",
       "      <th>total_following</th>\n",
       "      <th>total_followers</th>\n",
       "      <th>name</th>\n",
       "      <th>private_account</th>\n",
       "      <th>business_account</th>\n",
       "      <th>recently_joined</th>\n",
       "      <th>total_likes</th>\n",
       "      <th>total_comments</th>\n",
       "      <th>total_posts</th>\n",
       "      <th>follow_back</th>\n",
       "    </tr>\n",
       "  </thead>\n",
       "  <tbody>\n",
       "    <tr>\n",
       "      <th>0</th>\n",
       "      <td>7olga7777777</td>\n",
       "      <td>0</td>\n",
       "      <td>107</td>\n",
       "      <td>69</td>\n",
       "      <td>Ольга Петришина</td>\n",
       "      <td>0</td>\n",
       "      <td>0</td>\n",
       "      <td>0</td>\n",
       "      <td>61</td>\n",
       "      <td>7</td>\n",
       "      <td>2</td>\n",
       "      <td>1</td>\n",
       "    </tr>\n",
       "    <tr>\n",
       "      <th>1</th>\n",
       "      <td>aadamkathst</td>\n",
       "      <td>2</td>\n",
       "      <td>212</td>\n",
       "      <td>40</td>\n",
       "      <td>aadam kathst</td>\n",
       "      <td>0</td>\n",
       "      <td>0</td>\n",
       "      <td>0</td>\n",
       "      <td>43</td>\n",
       "      <td>0</td>\n",
       "      <td>12</td>\n",
       "      <td>1</td>\n",
       "    </tr>\n",
       "    <tr>\n",
       "      <th>2</th>\n",
       "      <td>aadish___khan</td>\n",
       "      <td>2</td>\n",
       "      <td>116</td>\n",
       "      <td>65</td>\n",
       "      <td>aadish___khan</td>\n",
       "      <td>0</td>\n",
       "      <td>0</td>\n",
       "      <td>0</td>\n",
       "      <td>184</td>\n",
       "      <td>6</td>\n",
       "      <td>18</td>\n",
       "      <td>0</td>\n",
       "    </tr>\n",
       "    <tr>\n",
       "      <th>3</th>\n",
       "      <td>aarzoo6466</td>\n",
       "      <td>2</td>\n",
       "      <td>222</td>\n",
       "      <td>40</td>\n",
       "      <td>Aarzoo Khan</td>\n",
       "      <td>0</td>\n",
       "      <td>1</td>\n",
       "      <td>1</td>\n",
       "      <td>3</td>\n",
       "      <td>0</td>\n",
       "      <td>1</td>\n",
       "      <td>0</td>\n",
       "    </tr>\n",
       "    <tr>\n",
       "      <th>4</th>\n",
       "      <td>abbasyadavad</td>\n",
       "      <td>0</td>\n",
       "      <td>25</td>\n",
       "      <td>17</td>\n",
       "      <td>Abbas Yadavad</td>\n",
       "      <td>0</td>\n",
       "      <td>0</td>\n",
       "      <td>0</td>\n",
       "      <td>3</td>\n",
       "      <td>0</td>\n",
       "      <td>2</td>\n",
       "      <td>0</td>\n",
       "    </tr>\n",
       "  </tbody>\n",
       "</table>\n",
       "</div>"
      ],
      "text/plain": [
       "        username  mutual_connecting  total_following  total_followers  \\\n",
       "0   7olga7777777                  0              107               69   \n",
       "1    aadamkathst                  2              212               40   \n",
       "2  aadish___khan                  2              116               65   \n",
       "3     aarzoo6466                  2              222               40   \n",
       "4   abbasyadavad                  0               25               17   \n",
       "\n",
       "              name  private_account  business_account  recently_joined  \\\n",
       "0  Ольга Петришина                0                 0                0   \n",
       "1     aadam kathst                0                 0                0   \n",
       "2    aadish___khan                0                 0                0   \n",
       "3      Aarzoo Khan                0                 1                1   \n",
       "4    Abbas Yadavad                0                 0                0   \n",
       "\n",
       "   total_likes  total_comments  total_posts  follow_back  \n",
       "0           61               7            2            1  \n",
       "1           43               0           12            1  \n",
       "2          184               6           18            0  \n",
       "3            3               0            1            0  \n",
       "4            3               0            2            0  "
      ]
     },
     "execution_count": 2,
     "metadata": {},
     "output_type": "execute_result"
    }
   ],
   "source": [
    "#reading dataset\n",
    "insta = pd.read_csv(\"./clean_data.csv\")\n",
    "insta.head()"
   ]
  },
  {
   "cell_type": "code",
   "execution_count": 3,
   "metadata": {},
   "outputs": [
    {
     "name": "stdout",
     "output_type": "stream",
     "text": [
      "Total private account are: 2\n",
      "Total business accounts are: 11\n"
     ]
    }
   ],
   "source": [
    "#total private account and total business account\n",
    "print(\"Total private account are:\",insta.private_account.sum())\n",
    "print(\"Total business accounts are:\",insta.business_account.sum())"
   ]
  },
  {
   "cell_type": "code",
   "execution_count": 4,
   "metadata": {},
   "outputs": [
    {
     "name": "stdout",
     "output_type": "stream",
     "text": [
      "New users: 8\n"
     ]
    }
   ],
   "source": [
    "#count of new users\n",
    "print(\"New users:\",insta.recently_joined.sum())"
   ]
  },
  {
   "cell_type": "code",
   "execution_count": 5,
   "metadata": {},
   "outputs": [
    {
     "name": "stdout",
     "output_type": "stream",
     "text": [
      "User with maxmimum followers is ['Sahil Vats'] with total followers:3574\n"
     ]
    }
   ],
   "source": [
    "#username with maximum followers\n",
    "print(\"User with maxmimum followers is {} with total followers:{}\".format(\n",
    "    insta[\"name\"][insta.total_followers==insta.total_followers.max()].values,insta.total_followers.max()))"
   ]
  },
  {
   "cell_type": "code",
   "execution_count": 6,
   "metadata": {},
   "outputs": [
    {
     "name": "stdout",
     "output_type": "stream",
     "text": [
      "User with minimum followers is ['Shankar Singh Rawat'] with total followers:4\n"
     ]
    }
   ],
   "source": [
    "#username with minimum followers\n",
    "print(\"User with minimum followers is {} with total followers:{}\".format(\n",
    "    insta[\"name\"][insta.total_followers==insta.total_followers.min()].values,insta.total_followers.min()))\n"
   ]
  },
  {
   "cell_type": "code",
   "execution_count": 7,
   "metadata": {},
   "outputs": [
    {
     "name": "stdout",
     "output_type": "stream",
     "text": [
      "User with maximum follwing is ['Prakash'] with total following:3295\n"
     ]
    }
   ],
   "source": [
    "#username with maximum following\n",
    "print(\"User with maximum follwing is {} with total following:{}\".format(\n",
    "    insta[\"name\"][insta.total_following==insta.total_following.max()].values,insta.total_following.max()))"
   ]
  },
  {
   "cell_type": "code",
   "execution_count": 8,
   "metadata": {},
   "outputs": [
    {
     "name": "stdout",
     "output_type": "stream",
     "text": [
      "User with minimum following is ['Raushan Roy'] with total following:2\n"
     ]
    }
   ],
   "source": [
    "#username with minimum following\n",
    "print(\"User with minimum following is {} with total following:{}\".format(\n",
    "    insta[\"name\"][insta.total_following==insta.total_following.min()].values,insta.total_following.min()))\n"
   ]
  },
  {
   "cell_type": "code",
   "execution_count": 9,
   "metadata": {},
   "outputs": [
    {
     "name": "stdout",
     "output_type": "stream",
     "text": [
      "User with highest mutual are ['ramesh mali 8055@' 'Rahul Upadhayay'] with 11 mutuals\n"
     ]
    }
   ],
   "source": [
    "#highest number of mutual connections\n",
    "print(\"User with highest mutual are {} with {} mutuals\".format(\n",
    "    insta[\"name\"][insta.mutual_connecting==insta.mutual_connecting.max()].values,insta.mutual_connecting.max()))"
   ]
  },
  {
   "cell_type": "code",
   "execution_count": 10,
   "metadata": {},
   "outputs": [
    {
     "name": "stdout",
     "output_type": "stream",
     "text": [
      "User with highest likes are ['Sahil Vats'] with 32252 likes\n"
     ]
    }
   ],
   "source": [
    "#user with highest likes\n",
    "print(\"User with highest likes are {} with {} likes\".format(\n",
    "    insta[\"name\"][insta.total_likes==insta.total_likes.max()].values,insta.total_likes.max()))"
   ]
  },
  {
   "cell_type": "code",
   "execution_count": 11,
   "metadata": {},
   "outputs": [
    {
     "name": "stdout",
     "output_type": "stream",
     "text": [
      "User with lowest likes are ['Shankar Singh Rawat'] with 0 likes\n"
     ]
    }
   ],
   "source": [
    "#user with lowest likes\n",
    "print(\"User with lowest likes are {} with {} likes\".format(\n",
    "    insta[\"name\"][insta.total_likes==insta.total_likes.min()].values,insta.total_likes.min()))"
   ]
  },
  {
   "cell_type": "code",
   "execution_count": 12,
   "metadata": {},
   "outputs": [
    {
     "name": "stdout",
     "output_type": "stream",
     "text": [
      "User with maximimum comments are ['Sahil Vats'] with 2084 comments\n"
     ]
    }
   ],
   "source": [
    "#user with maximum comments\n",
    "print(\"User with maximimum comments are {} with {} comments\".format(\n",
    "    insta[\"name\"][insta.total_comments==insta.total_comments.max()].values,insta.total_comments.max()))"
   ]
  },
  {
   "cell_type": "code",
   "execution_count": 13,
   "metadata": {},
   "outputs": [
    {
     "name": "stdout",
     "output_type": "stream",
     "text": [
      "User with minimum comments are ['aadam kathst' 'Aarzoo Khan' 'Abbas Yadavad' 'Abhijit Das'\n",
      " 'Alexandr Shegolev' 'Arun Siva' 'aryan ranjit' 'Bablu Khatik'\n",
      " 'balu yadav' 'Ankit _baria' 'Bheru Lal Yadav' 'Bungte Rhiru Roshan'\n",
      " 'Dev Dadheech' 'Danish Ansari' 'parmar dasharath' 'md_21' 'dav chauhan'\n",
      " 'emin.mamedov' 'govind' 'Govind Kumar' 'валентина григорук'\n",
      " 'Hareram kumar singh' 'Harshranjan' 'Ilyas Kineev' 'Irshad Alam'\n",
      " 'Jitendra Kumar Yadav' 'Kamaraj Poongodi' 'Kamlesh Dadheech' 'Ajay chan'\n",
      " 'mahendra kathat' 'Kirti Thakor' 'kaushal' 'laishramechan'\n",
      " 'Людмила Масакова' 'Mahendra Kumae Mahendra Kumar' 'manish saheriya'\n",
      " 'meera diagnostics' 'Muntun yadav' 'Nelsonam Kujur' 'Nitish YaDav'\n",
      " 'श्याम लाल नंदराय' 'Pawan' 'pawan Kumar mahto' 'pawansahu' 'Rafik Kathat'\n",
      " 'Ragho Kumar Ragho Kumar' 'Rajendra Prasad Gupta' 'Ram Pareek'\n",
      " 'Ramesh Chandra' 'Raushan Roy' 'saran.official' 'sarowarthakur'\n",
      " 'Senthil Krish' 'Shankar Singh Rawat' 'Sohel Singhaniya'\n",
      " 'Wahengbam Ton Meitei' 'Tousif Mulla' 'Vignesh' 'Ek villein'\n",
      " 'ويبقى الامل' 'Yaseen Mulla'] with 0 comments\n"
     ]
    }
   ],
   "source": [
    "#user with minimum comments\n",
    "print(\"User with minimum comments are {} with {} comments\".format(\n",
    "    insta[\"name\"][insta.total_comments==insta.total_comments.min()].values,insta.total_comments.min()))"
   ]
  },
  {
   "cell_type": "code",
   "execution_count": 14,
   "metadata": {},
   "outputs": [
    {
     "name": "stdout",
     "output_type": "stream",
     "text": [
      "User with highest posts are ['Ramesh Pratap Singh'] with 923 posts\n"
     ]
    }
   ],
   "source": [
    "#user with highest number of posts \n",
    "print(\"User with highest posts are {} with {} posts\".format(\n",
    "    insta[\"name\"][insta.total_posts==insta.total_posts.max()].values,insta.total_posts.max()))"
   ]
  },
  {
   "cell_type": "code",
   "execution_count": 15,
   "metadata": {},
   "outputs": [
    {
     "name": "stdout",
     "output_type": "stream",
     "text": [
      "User with lowest posts are ['Aarzoo Khan' 'Abhijit Das' 'abhishek choudhary' 'Alexandr Shegolev'\n",
      " 'Amaresh mishra' 'Arun Siva' 'Ashraf khan' 'Bablu Khatik' 'balu yadav'\n",
      " 'Bungte Rhiru Roshan' 'Deepak joshi...' 'Dev Dadheech' 'Danish Ansari'\n",
      " 'solanki dev' 'emin.mamedov' 'рафаил' 'govind' 'Govind Kumar'\n",
      " 'валентина григорук' 'Harshranjan' 'Kamaraj Poongodi' 'Карен'\n",
      " 'mahendra kathat' 'Kirankiran8872' 'Kirti Thakor' 'kaushal'\n",
      " 'laishramechan' 'Людмила Масакова' 'Mahendra Kumae Mahendra Kumar'\n",
      " 'Naveen Nav' 'Nitish YaDav' 'pavanlotti' 'pawan Kumar mahto' 'PMŔv'\n",
      " 'pragya ajit karn' 'Rafik Kathat' 'Raj Sahu' 'rajsingh' 'Ram Pareek'\n",
      " 'Ramesh Chandra' 'R K Kumar' 'Raushan Roy' 'R K Kumar' 'saran.official'\n",
      " 'Satu Mali' 'Shankar Singh Rawat' 'slawa' 'Tanishq Bhai'\n",
      " 'Wahengbam Ton Meitei' 'Tousif Mulla' 'Вячеслав Валов' 'Vinay Chouhan'\n",
      " 'Yaseen Mulla' 'Yogesh Nath'] with 1 posts\n"
     ]
    }
   ],
   "source": [
    "#user with lowest posts\n",
    "print(\"User with lowest posts are {} with {} posts\".format(\n",
    "    insta[\"name\"][insta.total_posts==insta.total_posts.min()].values,insta.total_posts.min()))"
   ]
  },
  {
   "cell_type": "code",
   "execution_count": 16,
   "metadata": {},
   "outputs": [
    {
     "name": "stdout",
     "output_type": "stream",
     "text": [
      "33\n"
     ]
    }
   ],
   "source": [
    "#total number of followbacks\n",
    "print(insta[\"follow_back\"].sum())"
   ]
  },
  {
   "cell_type": "markdown",
   "metadata": {},
   "source": [
    "## Model building"
   ]
  },
  {
   "cell_type": "code",
   "execution_count": 17,
   "metadata": {},
   "outputs": [
    {
     "data": {
      "text/plain": [
       "Index(['username', 'mutual_connecting', 'total_following', 'total_followers',\n",
       "       'name', 'private_account', 'business_account', 'recently_joined',\n",
       "       'total_likes', 'total_comments', 'total_posts', 'follow_back'],\n",
       "      dtype='object')"
      ]
     },
     "execution_count": 17,
     "metadata": {},
     "output_type": "execute_result"
    }
   ],
   "source": [
    "insta.columns"
   ]
  },
  {
   "cell_type": "code",
   "execution_count": 65,
   "metadata": {},
   "outputs": [],
   "source": [
    "#storing target variable in a different variable\n",
    "x = insta.drop([\"username\",\"name\",\"follow_back\"],axis=1)\n",
    "y = insta[\"follow_back\"]"
   ]
  },
  {
   "cell_type": "code",
   "execution_count": 68,
   "metadata": {},
   "outputs": [],
   "source": [
    "#splitting our data into train and test\n",
    "from sklearn.model_selection import train_test_split\n",
    "x_train,x_test,y_train,y_test = train_test_split(x,y,test_size = 0.3,random_state = 123)"
   ]
  },
  {
   "cell_type": "markdown",
   "metadata": {},
   "source": [
    "## Using Random Forest Classifier to build a base model"
   ]
  },
  {
   "cell_type": "code",
   "execution_count": 153,
   "metadata": {},
   "outputs": [
    {
     "name": "stderr",
     "output_type": "stream",
     "text": [
      "c:\\ProgramData\\Anaconda3\\lib\\site-packages\\sklearn\\ensemble\\forest.py:246: FutureWarning: The default value of n_estimators will change from 10 in version 0.20 to 100 in 0.22.\n",
      "  \"10 in version 0.20 to 100 in 0.22.\", FutureWarning)\n"
     ]
    },
    {
     "data": {
      "text/plain": [
       "RandomForestClassifier(bootstrap=True, class_weight=None, criterion='gini',\n",
       "            max_depth=None, max_features='auto', max_leaf_nodes=None,\n",
       "            min_impurity_decrease=0.0, min_impurity_split=None,\n",
       "            min_samples_leaf=1, min_samples_split=2,\n",
       "            min_weight_fraction_leaf=0.0, n_estimators=10, n_jobs=None,\n",
       "            oob_score=False, random_state=10, verbose=0, warm_start=False)"
      ]
     },
     "execution_count": 153,
     "metadata": {},
     "output_type": "execute_result"
    }
   ],
   "source": [
    "#importing and building a base random forest model\n",
    "from sklearn.ensemble import RandomForestClassifier\n",
    "rf = RandomForestClassifier(random_state=10)\n",
    "rf.fit(x_train,y_train)"
   ]
  },
  {
   "cell_type": "code",
   "execution_count": 154,
   "metadata": {},
   "outputs": [
    {
     "data": {
      "text/plain": [
       "0.8214285714285714"
      ]
     },
     "execution_count": 154,
     "metadata": {},
     "output_type": "execute_result"
    }
   ],
   "source": [
    "#checking metrics\n",
    "from sklearn import metrics\n",
    "metrics.accuracy_score(y_test,rf.predict(x_test))"
   ]
  },
  {
   "cell_type": "code",
   "execution_count": 155,
   "metadata": {},
   "outputs": [
    {
     "data": {
      "text/plain": [
       "0.5833333333333333"
      ]
     },
     "execution_count": 155,
     "metadata": {},
     "output_type": "execute_result"
    }
   ],
   "source": [
    "metrics.roc_auc_score(y_test,rf.predict(x_test))"
   ]
  },
  {
   "cell_type": "markdown",
   "metadata": {},
   "source": [
    "## Hyperparameter tuning"
   ]
  },
  {
   "cell_type": "code",
   "execution_count": 77,
   "metadata": {},
   "outputs": [],
   "source": [
    "from sklearn.model_selection import GridSearchCV"
   ]
  },
  {
   "cell_type": "code",
   "execution_count": 173,
   "metadata": {},
   "outputs": [],
   "source": [
    "#defining parameter for using in grid search cv\n",
    "param_grids = {\"n_estimators\":np.arange(10,100,10),\n",
    "              \"min_samples_leaf\":np.arange(1,50,1),\n",
    "              \"oob_score\":[True,False]}"
   ]
  },
  {
   "cell_type": "code",
   "execution_count": 174,
   "metadata": {},
   "outputs": [],
   "source": [
    "rf_grid = GridSearchCV(RandomForestClassifier(), param_grids, cv = 5, scoring=\"roc_auc\", n_jobs=-1)"
   ]
  },
  {
   "cell_type": "code",
   "execution_count": 175,
   "metadata": {},
   "outputs": [
    {
     "data": {
      "text/plain": [
       "GridSearchCV(cv=5, error_score='raise-deprecating',\n",
       "       estimator=RandomForestClassifier(bootstrap=True, class_weight=None, criterion='gini',\n",
       "            max_depth=None, max_features='auto', max_leaf_nodes=None,\n",
       "            min_impurity_decrease=0.0, min_impurity_split=None,\n",
       "            min_samples_leaf=1, min_samples_split=2,\n",
       "            min_weight_fraction_leaf=0.0, n_estimators='warn', n_jobs=None,\n",
       "            oob_score=False, random_state=None, verbose=0,\n",
       "            warm_start=False),\n",
       "       fit_params=None, iid='warn', n_jobs=-1,\n",
       "       param_grid={'n_estimators': array([10, 20, 30, 40, 50, 60, 70, 80, 90]), 'min_samples_leaf': array([ 1,  2,  3,  4,  5,  6,  7,  8,  9, 10, 11, 12, 13, 14, 15, 16, 17,\n",
       "       18, 19, 20, 21, 22, 23, 24, 25, 26, 27, 28, 29, 30, 31, 32, 33, 34,\n",
       "       35, 36, 37, 38, 39, 40, 41, 42, 43, 44, 45, 46, 47, 48, 49]), 'oob_score': [True, False]},\n",
       "       pre_dispatch='2*n_jobs', refit=True, return_train_score='warn',\n",
       "       scoring='roc_auc', verbose=0)"
      ]
     },
     "execution_count": 175,
     "metadata": {},
     "output_type": "execute_result"
    }
   ],
   "source": [
    "rf_grid.fit(x_train,y_train)"
   ]
  },
  {
   "cell_type": "code",
   "execution_count": 176,
   "metadata": {},
   "outputs": [
    {
     "data": {
      "text/plain": [
       "{'min_samples_leaf': 31, 'n_estimators': 30, 'oob_score': True}"
      ]
     },
     "execution_count": 176,
     "metadata": {},
     "output_type": "execute_result"
    }
   ],
   "source": [
    "rf_grid.best_params_"
   ]
  },
  {
   "cell_type": "code",
   "execution_count": 177,
   "metadata": {},
   "outputs": [
    {
     "data": {
      "text/plain": [
       "0.5"
      ]
     },
     "execution_count": 177,
     "metadata": {},
     "output_type": "execute_result"
    }
   ],
   "source": [
    "#roc auc score\n",
    "metrics.roc_auc_score(y_test,rf_grid.predict(x_test))"
   ]
  },
  {
   "cell_type": "code",
   "execution_count": 178,
   "metadata": {},
   "outputs": [
    {
     "data": {
      "text/plain": [
       "0.8571428571428571"
      ]
     },
     "execution_count": 178,
     "metadata": {},
     "output_type": "execute_result"
    }
   ],
   "source": [
    "#accuracy\n",
    "metrics.accuracy_score(y_test,rf_grid.predict(x_test))"
   ]
  },
  {
   "cell_type": "markdown",
   "metadata": {},
   "source": [
    "## Building final model using best parameters"
   ]
  },
  {
   "cell_type": "code",
   "execution_count": 179,
   "metadata": {},
   "outputs": [
    {
     "data": {
      "text/plain": [
       "RandomForestClassifier(bootstrap=True, class_weight=None, criterion='gini',\n",
       "            max_depth=None, max_features='auto', max_leaf_nodes=None,\n",
       "            min_impurity_decrease=0.0, min_impurity_split=None,\n",
       "            min_samples_leaf=33, min_samples_split=2,\n",
       "            min_weight_fraction_leaf=0.0, n_estimators=90, n_jobs=None,\n",
       "            oob_score=False, random_state=None, verbose=0,\n",
       "            warm_start=False)"
      ]
     },
     "execution_count": 179,
     "metadata": {},
     "output_type": "execute_result"
    }
   ],
   "source": [
    "model = RandomForestClassifier(min_samples_leaf = 33 ,n_estimators = 90,oob_score=False)\n",
    "model.fit(x_train,y_train)"
   ]
  },
  {
   "cell_type": "code",
   "execution_count": 180,
   "metadata": {},
   "outputs": [],
   "source": [
    "y_predicted = model.predict(x_test)"
   ]
  },
  {
   "cell_type": "code",
   "execution_count": 181,
   "metadata": {},
   "outputs": [
    {
     "data": {
      "text/plain": [
       "0.8571428571428571"
      ]
     },
     "execution_count": 181,
     "metadata": {},
     "output_type": "execute_result"
    }
   ],
   "source": [
    "metrics.accuracy_score(y_test,y_predicted)"
   ]
  },
  {
   "cell_type": "code",
   "execution_count": 182,
   "metadata": {},
   "outputs": [
    {
     "data": {
      "text/plain": [
       "0.5"
      ]
     },
     "execution_count": 182,
     "metadata": {},
     "output_type": "execute_result"
    }
   ],
   "source": [
    "metrics.roc_auc_score(y_test,y_predicted)"
   ]
  },
  {
   "cell_type": "markdown",
   "metadata": {},
   "source": [
    "### Our model has an accuracy score of 85.7% "
   ]
  },
  {
   "cell_type": "markdown",
   "metadata": {},
   "source": [
    "# END"
   ]
  }
 ],
 "metadata": {
  "kernelspec": {
   "display_name": "Python 3",
   "language": "python",
   "name": "python3"
  },
  "language_info": {
   "codemirror_mode": {
    "name": "ipython",
    "version": 3
   },
   "file_extension": ".py",
   "mimetype": "text/x-python",
   "name": "python",
   "nbconvert_exporter": "python",
   "pygments_lexer": "ipython3",
   "version": "3.6.8"
  }
 },
 "nbformat": 4,
 "nbformat_minor": 2
}
